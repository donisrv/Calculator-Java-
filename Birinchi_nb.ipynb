{
  "nbformat": 4,
  "nbformat_minor": 0,
  "metadata": {
    "colab": {
      "provenance": [],
      "authorship_tag": "ABX9TyM+UOgKj0C2iEkhhhKAs7+T",
      "include_colab_link": true
    },
    "kernelspec": {
      "name": "python3",
      "display_name": "Python 3"
    },
    "language_info": {
      "name": "python"
    }
  },
  "cells": [
    {
      "cell_type": "markdown",
      "metadata": {
        "id": "view-in-github",
        "colab_type": "text"
      },
      "source": [
        "<a href=\"https://colab.research.google.com/github/donisrv/Calculator-Java-/blob/master/Birinchi_nb.ipynb\" target=\"_parent\"><img src=\"https://colab.research.google.com/assets/colab-badge.svg\" alt=\"Open In Colab\"/></a>"
      ]
    },
    {
      "cell_type": "code",
      "execution_count": 1,
      "metadata": {
        "colab": {
          "base_uri": "https://localhost:8080/"
        },
        "id": "e95uAWOzMCtJ",
        "outputId": "9021d7ff-58d7-403a-cd34-a41e2087487b"
      },
      "outputs": [
        {
          "output_type": "stream",
          "name": "stdout",
          "text": [
            "Salom, Google Colaboratory\n"
          ]
        }
      ],
      "source": [
        "print('Salom, Google Colaboratory')"
      ]
    },
    {
      "cell_type": "code",
      "source": [],
      "metadata": {
        "id": "yqXWciWFMYy0"
      },
      "execution_count": null,
      "outputs": []
    }
  ]
}