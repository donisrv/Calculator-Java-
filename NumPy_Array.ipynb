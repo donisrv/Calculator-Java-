{
  "nbformat": 4,
  "nbformat_minor": 0,
  "metadata": {
    "colab": {
      "provenance": [],
      "collapsed_sections": [],
      "authorship_tag": "ABX9TyM9jarlL52ml6jJM0VZaUZF",
      "include_colab_link": true
    },
    "kernelspec": {
      "name": "python3",
      "display_name": "Python 3"
    },
    "language_info": {
      "name": "python"
    }
  },
  "cells": [
    {
      "cell_type": "markdown",
      "metadata": {
        "id": "view-in-github",
        "colab_type": "text"
      },
      "source": [
        "<a href=\"https://colab.research.google.com/github/donisrv/Calculator-Java-/blob/master/NumPy_Array.ipynb\" target=\"_parent\"><img src=\"https://colab.research.google.com/assets/colab-badge.svg\" alt=\"Open In Colab\"/></a>"
      ]
    },
    {
      "cell_type": "code",
      "execution_count": 3,
      "metadata": {
        "id": "Nnc9wZDculHT"
      },
      "outputs": [],
      "source": [
        "import numpy as np"
      ]
    },
    {
      "cell_type": "code",
      "source": [
        "data1 = [3.5, 5, 6, 2] #list\n",
        "arr1 = np.array(data1) # array1"
      ],
      "metadata": {
        "id": "wzRxwCvTuzSs"
      },
      "execution_count": null,
      "outputs": []
    },
    {
      "cell_type": "code",
      "source": [
        "data1"
      ],
      "metadata": {
        "colab": {
          "base_uri": "https://localhost:8080/"
        },
        "id": "wq0sf13kvwaG",
        "outputId": "156f8f24-b228-4f64-ee52-98f965c179a4"
      },
      "execution_count": null,
      "outputs": [
        {
          "output_type": "execute_result",
          "data": {
            "text/plain": [
              "[3.5, 5, 6, 2]"
            ]
          },
          "metadata": {},
          "execution_count": 4
        }
      ]
    },
    {
      "cell_type": "code",
      "source": [
        "arr1"
      ],
      "metadata": {
        "colab": {
          "base_uri": "https://localhost:8080/"
        },
        "id": "6hcyFTBSvzO-",
        "outputId": "49e1cf93-605a-4c54-f5cf-42ad852b11fd"
      },
      "execution_count": null,
      "outputs": [
        {
          "output_type": "execute_result",
          "data": {
            "text/plain": [
              "array([3.5, 5. , 6. , 2. ])"
            ]
          },
          "metadata": {},
          "execution_count": 5
        }
      ]
    },
    {
      "cell_type": "code",
      "source": [
        "data2 = (4, 5, 3.2, 7) # tuple\n",
        "arr2 = np.array(data2) "
      ],
      "metadata": {
        "id": "XEvDQQdSv1GN"
      },
      "execution_count": null,
      "outputs": []
    },
    {
      "cell_type": "code",
      "source": [
        "data2"
      ],
      "metadata": {
        "colab": {
          "base_uri": "https://localhost:8080/"
        },
        "id": "7huXKIZWwkgN",
        "outputId": "55e1d9a7-d941-4759-d22c-76bf8d96cd92"
      },
      "execution_count": null,
      "outputs": [
        {
          "output_type": "execute_result",
          "data": {
            "text/plain": [
              "(4, 5, 3.2, 7)"
            ]
          },
          "metadata": {},
          "execution_count": 7
        }
      ]
    },
    {
      "cell_type": "code",
      "source": [
        "arr2"
      ],
      "metadata": {
        "colab": {
          "base_uri": "https://localhost:8080/"
        },
        "id": "nFft8D3WwmgN",
        "outputId": "1c670e9e-5de3-4fd6-d803-78e00ecc4006"
      },
      "execution_count": null,
      "outputs": [
        {
          "output_type": "execute_result",
          "data": {
            "text/plain": [
              "array([4. , 5. , 3.2, 7. ])"
            ]
          },
          "metadata": {},
          "execution_count": 8
        }
      ]
    },
    {
      "cell_type": "code",
      "source": [
        "arr1.ndim # array1 ning o'lchami"
      ],
      "metadata": {
        "id": "4j1-AiHQwokV",
        "colab": {
          "base_uri": "https://localhost:8080/"
        },
        "outputId": "a2f37852-730e-4bd5-ede6-bda273a8dd37"
      },
      "execution_count": null,
      "outputs": [
        {
          "output_type": "execute_result",
          "data": {
            "text/plain": [
              "1"
            ]
          },
          "metadata": {},
          "execution_count": 9
        }
      ]
    },
    {
      "cell_type": "code",
      "source": [
        "arr2.ndim # array2 ning o'lchami"
      ],
      "metadata": {
        "colab": {
          "base_uri": "https://localhost:8080/"
        },
        "id": "k88TmIJwvu72",
        "outputId": "6e8b9b6f-b62d-4ced-9ea2-9a863644a618"
      },
      "execution_count": null,
      "outputs": [
        {
          "output_type": "execute_result",
          "data": {
            "text/plain": [
              "1"
            ]
          },
          "metadata": {},
          "execution_count": 10
        }
      ]
    },
    {
      "cell_type": "markdown",
      "source": [
        "# `**Ikki o'lchamli massivlar**`"
      ],
      "metadata": {
        "id": "2ZrQiVHtx6yA"
      }
    },
    {
      "cell_type": "code",
      "source": [
        "data3 = [[1, 2, 3, 4], [5, 6, 7, 8]] # List ichidagi list\n",
        "arr3 = np.array(data3) # arra3"
      ],
      "metadata": {
        "id": "Q-v5oi_SyOgu"
      },
      "execution_count": null,
      "outputs": []
    },
    {
      "cell_type": "code",
      "source": [
        "data3, arr3"
      ],
      "metadata": {
        "colab": {
          "base_uri": "https://localhost:8080/"
        },
        "id": "3HvwepnIyoED",
        "outputId": "83a575d2-7efd-4103-8e63-c10d55b909a4"
      },
      "execution_count": null,
      "outputs": [
        {
          "output_type": "execute_result",
          "data": {
            "text/plain": [
              "([[1, 2, 3, 4], [5, 6, 7, 8]], array([[1, 2, 3, 4],\n",
              "        [5, 6, 7, 8]]))"
            ]
          },
          "metadata": {},
          "execution_count": 12
        }
      ]
    },
    {
      "cell_type": "code",
      "source": [
        "arr3.ndim"
      ],
      "metadata": {
        "colab": {
          "base_uri": "https://localhost:8080/"
        },
        "id": "MYqz89Wdy6Ld",
        "outputId": "7f330add-e867-4278-ee66-f611a121b687"
      },
      "execution_count": null,
      "outputs": [
        {
          "output_type": "execute_result",
          "data": {
            "text/plain": [
              "2"
            ]
          },
          "metadata": {},
          "execution_count": 13
        }
      ]
    },
    {
      "cell_type": "markdown",
      "source": [
        "# `shape`, `size` metodlari"
      ],
      "metadata": {
        "id": "AcOs8D8d0gXv"
      }
    },
    {
      "cell_type": "code",
      "source": [
        "arr3.shape # qator va ustunlar sonini korsatadi (qator, ustunlar)"
      ],
      "metadata": {
        "id": "zsNNv1Co0u-d",
        "colab": {
          "base_uri": "https://localhost:8080/"
        },
        "outputId": "714456c1-5977-4925-9bff-aa56bc7e9be4"
      },
      "execution_count": null,
      "outputs": [
        {
          "output_type": "execute_result",
          "data": {
            "text/plain": [
              "(2, 4)"
            ]
          },
          "metadata": {},
          "execution_count": 14
        }
      ]
    },
    {
      "cell_type": "code",
      "source": [
        "arr3.size # array3 ning elemntlar soni"
      ],
      "metadata": {
        "colab": {
          "base_uri": "https://localhost:8080/"
        },
        "id": "QCyRW2Eu_9F6",
        "outputId": "9eee4eb9-131f-4eae-9402-ebc75496929d"
      },
      "execution_count": null,
      "outputs": [
        {
          "output_type": "execute_result",
          "data": {
            "text/plain": [
              "8"
            ]
          },
          "metadata": {},
          "execution_count": 15
        }
      ]
    },
    {
      "cell_type": "markdown",
      "source": [
        "# N o'lchamli massivlarni yaritishni boshqa usullari"
      ],
      "metadata": {
        "id": "ccjtfoYmC5-M"
      }
    },
    {
      "cell_type": "code",
      "source": [
        "arr4 = np.zeros(shape = (2, 4)) # barcha elementlari 0 ga teng (2, 4) o'lchamli massiv yaratadi 2qator 4 ustunli\n",
        "arr4"
      ],
      "metadata": {
        "colab": {
          "base_uri": "https://localhost:8080/"
        },
        "id": "FvyQ71nACd2z",
        "outputId": "8b613890-9e9a-4c37-87df-b26b8aacecfe"
      },
      "execution_count": null,
      "outputs": [
        {
          "output_type": "execute_result",
          "data": {
            "text/plain": [
              "array([[0., 0., 0., 0.],\n",
              "       [0., 0., 0., 0.]])"
            ]
          },
          "metadata": {},
          "execution_count": 17
        }
      ]
    },
    {
      "cell_type": "code",
      "source": [
        "arr5 = np.ones(shape = (2, 4)) # barcha elementlari 1 ga teng (2, 4) o'lchamli massiv yaratadi 2qator 4 ustunli\n",
        "arr5"
      ],
      "metadata": {
        "colab": {
          "base_uri": "https://localhost:8080/"
        },
        "id": "cLV6dbP2DOVq",
        "outputId": "e161c674-a9d1-4bbb-eb08-36a9c35729d6"
      },
      "execution_count": null,
      "outputs": [
        {
          "output_type": "execute_result",
          "data": {
            "text/plain": [
              "array([[1., 1., 1., 1.],\n",
              "       [1., 1., 1., 1.]])"
            ]
          },
          "metadata": {},
          "execution_count": 18
        }
      ]
    },
    {
      "cell_type": "markdown",
      "source": [
        "`arange` funksiyasi yordamida yaratish"
      ],
      "metadata": {
        "id": "KaaZmSj-D9F7"
      }
    },
    {
      "cell_type": "code",
      "source": [
        "arr6 = np.arange(4, 20, 2) # 4 dan 20 gacha bo'lgan qiymatlarni 2 qwadam bilan massivga joylab beradi\n",
        "arr6"
      ],
      "metadata": {
        "colab": {
          "base_uri": "https://localhost:8080/"
        },
        "id": "5s_qJl9GD2Ia",
        "outputId": "d98af3ce-bc55-4640-fff2-dd7d78292170"
      },
      "execution_count": null,
      "outputs": [
        {
          "output_type": "execute_result",
          "data": {
            "text/plain": [
              "array([ 4,  6,  8, 10, 12, 14, 16, 18])"
            ]
          },
          "metadata": {},
          "execution_count": 19
        }
      ]
    },
    {
      "cell_type": "code",
      "source": [
        "arr7 = np.arange(20) # 0 dan 20 gacha bo'lgan qiymatlarni 1 qadam bilan massivga joylab beradi\n",
        "arr7"
      ],
      "metadata": {
        "colab": {
          "base_uri": "https://localhost:8080/"
        },
        "id": "ycSNy7KYE0gB",
        "outputId": "f26d07e5-d0c7-4dfc-8064-e62c68688792"
      },
      "execution_count": null,
      "outputs": [
        {
          "output_type": "execute_result",
          "data": {
            "text/plain": [
              "array([ 0,  1,  2,  3,  4,  5,  6,  7,  8,  9, 10, 11, 12, 13, 14, 15, 16,\n",
              "       17, 18, 19])"
            ]
          },
          "metadata": {},
          "execution_count": 21
        }
      ]
    },
    {
      "cell_type": "markdown",
      "source": [
        "`random` funksiyasi yordamida yaratish (`rand`, `randint`, `randn`)"
      ],
      "metadata": {
        "id": "u4NSCvOaF0Al"
      }
    },
    {
      "cell_type": "code",
      "source": [
        "arr8 = np.random.rand(2, 4) # (2, 4) o'lchamli --> elementlar (0 ~ 1) taxminiy qiymatlardan tashkil topgan\n",
        "arr8"
      ],
      "metadata": {
        "colab": {
          "base_uri": "https://localhost:8080/"
        },
        "id": "aPkgq7D1FZ3A",
        "outputId": "15abb2fe-12c2-4ca4-9356-4ea4fa4e73a2"
      },
      "execution_count": null,
      "outputs": [
        {
          "output_type": "execute_result",
          "data": {
            "text/plain": [
              "array([[0.19907696, 0.00569369, 0.55472568, 0.15212279],\n",
              "       [0.13330225, 0.4621064 , 0.93747601, 0.04442627]])"
            ]
          },
          "metadata": {},
          "execution_count": 22
        }
      ]
    },
    {
      "cell_type": "code",
      "source": [
        "arr9 = np.random.randint(5, size=(2, 4)) # (2, 4) o'lchamli va max qiymati 5 gacha bo'lgan int sonlar\n",
        "arr9"
      ],
      "metadata": {
        "colab": {
          "base_uri": "https://localhost:8080/"
        },
        "id": "ZRx81F4wGDrR",
        "outputId": "00ffa6fc-602b-46cb-ad78-b51107d5cbc0"
      },
      "execution_count": null,
      "outputs": [
        {
          "output_type": "execute_result",
          "data": {
            "text/plain": [
              "array([[0, 0, 0, 3],\n",
              "       [4, 4, 1, 3]])"
            ]
          },
          "metadata": {},
          "execution_count": 23
        }
      ]
    },
    {
      "cell_type": "code",
      "source": [
        "arr10 = np.random.randn(2, 4) # (2, 4) o'lchamli --> elementlari (Normal dist)\n",
        "arr10 "
      ],
      "metadata": {
        "colab": {
          "base_uri": "https://localhost:8080/"
        },
        "id": "FWOJ62u0GVVw",
        "outputId": "d9128e9d-d162-41ed-9369-33aa17e79245"
      },
      "execution_count": null,
      "outputs": [
        {
          "output_type": "execute_result",
          "data": {
            "text/plain": [
              "array([[ 1.35663432e+00, -6.10493621e-01,  6.19091979e-01,\n",
              "        -3.80182498e+00],\n",
              "       [ 2.54691384e-01,  6.09220066e-01, -5.17659782e-05,\n",
              "         1.62884358e-02]])"
            ]
          },
          "metadata": {},
          "execution_count": 24
        }
      ]
    },
    {
      "cell_type": "markdown",
      "source": [
        "# `Masala(1): 1-o'lchamli massivlar yaratish`\n",
        "Masala sharti : Elementlari ixtiyoriy n ta (n > 0, butun son) bo'lgan 1-o'lchamli massiv (array) yaratuvchi funksiyani davom ettiring.\n",
        "\n",
        "Yordam : array yoki random funksiyasidan foydalaning."
      ],
      "metadata": {
        "id": "U-kt2camB8DR"
      }
    },
    {
      "cell_type": "code",
      "source": [
        "# JAVOBNI SHU YERGA YOZING\n",
        "def one_dim(n):\n",
        "  \"\"\" n ta elementdan tashkil topgan 1-o'lchamli massiv \"\"\"  \n",
        "  arr1 = np.random.rand(n)\n",
        "  print(arr1)\n",
        "  return arr1"
      ],
      "metadata": {
        "id": "yPyPJnYDGf0o"
      },
      "execution_count": 7,
      "outputs": []
    },
    {
      "cell_type": "code",
      "source": [
        "#@title Tekshirish (natijada hech qanday xatolik yuz bermasligi kerak)\n",
        "\"\"\"Check that function returns the correct output for several inputs\"\"\"\n",
        "for i in range(1, 10):\n",
        "  assert len(one_dim(i)) == i, f\"n elementlar soni, funksiyada noto'g'ri qo'llanilgan\" # n elementlar soni\n",
        "  arr = one_dim(i) # massiv\n",
        "  assert arr.ndim == 1, f\"1-o'lchamli massiv aniqlanmadi\"# massiv o'lchami\n",
        "  assert type(arr) == np.ndarray, f\"massiv aniqlanmadi\" #numpy array "
      ],
      "metadata": {
        "colab": {
          "base_uri": "https://localhost:8080/"
        },
        "id": "8x7cq2qAGlyA",
        "outputId": "85e46d19-c613-4404-8c16-f6ee2b8fa5fe"
      },
      "execution_count": 8,
      "outputs": [
        {
          "output_type": "stream",
          "name": "stdout",
          "text": [
            "[0.48094507]\n",
            "[0.3480924]\n",
            "[0.67071134 0.4064632 ]\n",
            "[0.2586997  0.20733812]\n",
            "[0.53126718 0.22838116 0.17431686]\n",
            "[0.91272845 0.80599095 0.84543867]\n",
            "[0.18247533 0.47338453 0.04736296 0.19526487]\n",
            "[0.48539691 0.60423878 0.13890096 0.06183771]\n",
            "[0.61190969 0.27082678 0.89797187 0.32266168 0.07303293]\n",
            "[0.6511625  0.77384497 0.96833302 0.53728088 0.77015936]\n",
            "[0.02706836 0.57170979 0.33427855 0.01859783 0.00515261 0.18748984]\n",
            "[0.97059334 0.66272764 0.42358592 0.98406725 0.19787511 0.3060632 ]\n",
            "[0.40709258 0.46688727 0.69553808 0.85734328 0.03536831 0.86852886\n",
            " 0.18728904]\n",
            "[0.41146654 0.62025817 0.45406314 0.033444   0.15900638 0.84961416\n",
            " 0.82789558]\n",
            "[0.69143349 0.44749215 0.26477233 0.11912981 0.43146971 0.07831265\n",
            " 0.36541885 0.09826872]\n",
            "[0.30316258 0.68514055 0.77025235 0.85318342 0.99523666 0.48071849\n",
            " 0.60946527 0.1787589 ]\n",
            "[0.76200458 0.61489174 0.15080554 0.82040366 0.34305883 0.59024417\n",
            " 0.73477016 0.24864099 0.49586349]\n",
            "[0.03930414 0.7700362  0.03415456 0.43829752 0.58219013 0.22019171\n",
            " 0.99351942 0.16176055 0.45649448]\n"
          ]
        }
      ]
    },
    {
      "cell_type": "markdown",
      "source": [
        "# Masala(2) 2-o'lchamli massivlar yaratish\n",
        "Masala : Shakli `shape(r, c)` bo'lgan 2-o'lchamli massiv (array) yaratuvchi funksiyani davom ettiring.\n",
        "\n",
        "Yordam : numpy kutubxonasida massivlar yaratuvchi funksiyalarining istalganidan foydlanishingiz mumkin."
      ],
      "metadata": {
        "id": "tlbUJq7yWscr"
      }
    },
    {
      "cell_type": "code",
      "source": [
        "# JAVOBNI SHU YERGA YOZING\n",
        "def two_dim(r, c):\n",
        "    \"\"\" r ta qator, c ta ustundan tashkil topgan 2-o'lchamli massiv \"\"\"  \n",
        "    my_arr3 = np.random.rand(r, c) # barcha elementlari 0 ga teng (2, 4) o'lchamli massiv yaratadi 2qator 4 ustunli\n",
        "    print('Shakli shape(r, c) bo\\'lgan 2-o\\'lchamli massiv (array) yaratuvchi funksiya natijasi\\n',my_arr3,'\\n')\n",
        "    print('Qator va ustunlar soni', my_arr3.shape,'\\n')\n",
        "    print('Massiv o\\'lchami',my_arr3.ndim, 'ga teng')\n",
        "    return my_arr3"
      ],
      "metadata": {
        "id": "t7Yw7enZW73S"
      },
      "execution_count": 11,
      "outputs": []
    },
    {
      "cell_type": "code",
      "source": [
        "#@title Tekshirish (natijada hech qanday xatolik yuz bermasligi kerak)\n",
        "\"\"\"Check that function returns the correct output for several inputs\"\"\"\n",
        "arr = two_dim(3, 2) # massiv\n",
        "assert arr.shape == (3, 2), f\"funksiyada, o'lchamlar noto'g'ri qo'llanilgan\" # shape\n",
        "assert arr.ndim == 2, f\"2-o'lchamli massiv aniqlanmadi\" # massiv o'lchami\n",
        "assert type(arr) == np.ndarray, f\"massiv aniqlanmadi\"# #numpy array "
      ],
      "metadata": {
        "colab": {
          "base_uri": "https://localhost:8080/"
        },
        "id": "O9p5mCFfW_zR",
        "outputId": "ff6034cf-463e-4e79-b988-2b1e105ab1ce"
      },
      "execution_count": 12,
      "outputs": [
        {
          "output_type": "stream",
          "name": "stdout",
          "text": [
            "Shakli shape(r, c) bo'lgan 2-o'lchamli massiv (array) yaratuvchi funksiya natijasi\n",
            " [[0.19930752 0.83137957]\n",
            " [0.10803183 0.58571714]\n",
            " [0.52495507 0.58017383]] \n",
            "\n",
            "Qator va ustunlar soni (3, 2) \n",
            "\n",
            "Massiv o'lchami 2 ga teng\n"
          ]
        }
      ]
    }
  ]
}